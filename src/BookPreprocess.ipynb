{
 "cells": [
  {
   "cell_type": "code",
   "execution_count": 87,
   "metadata": {},
   "outputs": [],
   "source": [
    "import numpy as np\n",
    "import pandas as pd\n",
    "import random\n",
    "import re\n",
    "from itertools import permutations,combinations\n",
    "import nltk\n",
    "from collections import defaultdict"
   ]
  },
  {
   "cell_type": "code",
   "execution_count": 78,
   "metadata": {},
   "outputs": [],
   "source": [
    "def read_guten_book(path_in):\n",
    "    with open(path_in, encoding='utf-8') as f:\n",
    "        text = f.read()\n",
    "        start_s = '*** START OF THE PROJECT GUTENBERG EBOOK'\n",
    "        end_s = '*** END OF THE PROJECT GUTENBERG EBOOK'\n",
    "        text = text[text.find(start_s) + 3:text.find(end_s)]\n",
    "        text = text[text.find('***') + 3 :]\n",
    "        text = text.strip()\n",
    "    return text\n",
    "\n",
    "def process_md(md):\n",
    "    start_from = 'CHAPTER 1. Loomings.'\n",
    "    md = md[md.find(start_from) + len(start_from) : ] #skip table of contents\n",
    "    md = md[md.find(start_from):]\n",
    "    md = re.sub(r'\\n\\n','<n>',md)\n",
    "    md = re.sub(r'\\n',' ',md)\n",
    "    md = re.sub(r'<n>','\\n',md)\n",
    "    md = re.sub(r'\\*','',md)\n",
    "    md = re.sub(r'CHAPTER.+\\n','',md)\n",
    "    md = re.sub(r'\\([^()]*\\)', '', md)\n",
    "    md = re.sub(r'[_\"\\';“”:’‘£\\$\\(]', '', md)\n",
    "    md = re.sub(r'[,\\-\\—]', ' ', md)\n",
    "    md = re.sub(r'[\\?\\!]', '.', md)\n",
    "    md = re.sub(r'æ', 'ae', md)\n",
    "    md = re.sub(r'œ', 'ae', md)\n",
    "    md = re.sub(r'\\&', 'and', md)\n",
    "    return md\n",
    "\n",
    "def save_to_file(path,text_in):\n",
    "    with open(path, 'w') as f:\n",
    "        f.write(text_in)\n",
    "\n",
    "moby = read_guten_book('../data/MobyDick.txt')\n",
    "moby = process_md(moby)\n",
    "\n",
    "save_to_file('../data/moby_proc.txt',moby)"
   ]
  },
  {
   "cell_type": "code",
   "execution_count": null,
   "metadata": {},
   "outputs": [],
   "source": []
  }
 ],
 "metadata": {
  "kernelspec": {
   "display_name": "Python 3.10.4 ('env_YelpPredictor')",
   "language": "python",
   "name": "python3"
  },
  "language_info": {
   "codemirror_mode": {
    "name": "ipython",
    "version": 3
   },
   "file_extension": ".py",
   "mimetype": "text/x-python",
   "name": "python",
   "nbconvert_exporter": "python",
   "pygments_lexer": "ipython3",
   "version": "3.10.4"
  },
  "orig_nbformat": 4,
  "vscode": {
   "interpreter": {
    "hash": "54933d5d0454cb54ea8cf4e7b3c099269c704adbee2a5b35f5a5ea4d0f5219ad"
   }
  }
 },
 "nbformat": 4,
 "nbformat_minor": 2
}
