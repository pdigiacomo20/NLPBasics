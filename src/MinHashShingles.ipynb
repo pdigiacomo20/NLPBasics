{
 "cells": [
  {
   "cell_type": "code",
   "execution_count": 132,
   "metadata": {},
   "outputs": [],
   "source": [
    "import numpy as np\n",
    "import pandas as pd\n",
    "import random\n",
    "from itertools import permutations,combinations"
   ]
  },
  {
   "cell_type": "code",
   "execution_count": 156,
   "metadata": {},
   "outputs": [],
   "source": [
    "SHINGLE_LEN = 5\n",
    "\n",
    "def jac_sim(A,B):\n",
    "    return len(A.intersection(B))/len(A.union(B))\n",
    "\n",
    "def vec_sim(A,B):\n",
    "    return np.sum((A == B).astype(int))/len(A)\n",
    "\n",
    "class MinHash:\n",
    "\n",
    "    @classmethod\n",
    "    def fromfulltext(cls, doc_list, shin_len,num_hashes):\n",
    "        doc_shins = [cls.get_shingles(doc_list[0],shin_len)]\n",
    "        for doc in doc_list[1:]:\n",
    "            doc_shins.append(cls.get_shingles(doc,shin_len))\n",
    "        return cls(doc_shins,num_hashes)\n",
    "\n",
    "        \n",
    "\n",
    "    def __init__(self,doc_shins, num_hashes, b):\n",
    "\n",
    "        self.num_docs = len(doc_shins)\n",
    "        self.num_hashes = num_hashes\n",
    "        self.sig_m = np.empty((self.num_docs,self.num_hashes))\n",
    "        self.bands = dict()\n",
    "        self.cand_pairs = set()\n",
    "        all_shingles = doc_shins[0]\n",
    "        for doc in doc_shins[1:]:\n",
    "            all_shingles = all_shingles.union(doc)\n",
    "\n",
    "        self.num_shin = len(all_shingles)\n",
    "        self.shin_to_ind = dict(zip(list(all_shingles),range(self.num_shin)))\n",
    "\n",
    "        self.onehots = np.zeros((self.num_docs,self.num_shin))\n",
    "        for doc_i, doc_shin in enumerate(doc_shins):\n",
    "            for shin in doc_shin:\n",
    "                self.onehots[doc_i,self.shin_to_ind[shin]] = 1\n",
    "\n",
    "        self.create_sig_m()\n",
    "        self.create_bands(b)\n",
    "\n",
    "\n",
    "    def get_shingles(self, doc, shin_len):\n",
    "        shingle_set_ret = set()\n",
    "        for i in range(len(doc) - shin_len + 1):\n",
    "            shingle_set_ret.add(doc[i:i+shin_len])\n",
    "        return shingle_set_ret\n",
    "\n",
    "    def create_sig_m(self):\n",
    "        shuf_inds = list(range(self.num_shin))\n",
    "        for hash_i in range(self.num_hashes):\n",
    "            random.shuffle(shuf_inds)\n",
    "            for doc_i in range(self.num_docs):\n",
    "                for i,hash in enumerate(shuf_inds):\n",
    "                    if self.onehots[doc_i,hash] == 1:\n",
    "                        self.sig_m[doc_i,hash_i] = i\n",
    "                        break\n",
    "\n",
    "    def get_sig_m(self):\n",
    "        return self.sig_m\n",
    "\n",
    "    def create_bands(self,b):\n",
    "        for row_i in range(self.sig_m.shape[0]):\n",
    "            doc_bands = np.array_split(self.sig_m[row_i,:], b)\n",
    "            for band_i,band in enumerate(doc_bands):\n",
    "                key = tuple(np.append(band,str(band_i)))\n",
    "                if key in self.bands:\n",
    "                    self.cand_pairs.update([(row_i,x) for x in self.bands[key]])\n",
    "                else:\n",
    "                    self.bands[key] = []\n",
    "                self.bands[key] += [row_i]\n",
    "\n",
    "    def get_cand_pairs(self):\n",
    "        return self.cand_pairs\n"
   ]
  },
  {
   "cell_type": "code",
   "execution_count": 185,
   "metadata": {},
   "outputs": [
    {
     "data": {
      "text/plain": [
       "{(2, 1)}"
      ]
     },
     "execution_count": 185,
     "metadata": {},
     "output_type": "execute_result"
    }
   ],
   "source": [
    "doc_list2 = []\n",
    "all_perms = list(permutations('atone'))\n",
    "doc_list2.append(set(all_perms[0:30]))\n",
    "doc_list2.append(set(all_perms[15:45]))\n",
    "doc_list2.append(set(all_perms[15:45]))\n",
    "doc_list2.append(set(all_perms[70:110]))\n",
    "doc_list2.append(set(all_perms[80:120]))\n",
    "\n",
    "mh = MinHash(doc_list2,15,5)\n",
    "sm = mh.get_sig_m()\n",
    "all_c = list(combinations(list(range(len(doc_list2))),2))\n",
    "df_eval = pd.DataFrame(index=all_c)\n",
    "df_eval['True_Sim'] = [jac_sim(doc_list2[x[0]],doc_list2[x[1]]) for x in all_c]\n",
    "df_eval['Sig_M_Sim'] = [vec_sim(sm[x[0],:],sm[x[1],:]) for x in all_c]\n",
    "df_eval\n",
    "\n",
    "mh.get_cand_pairs()\n"
   ]
  },
  {
   "cell_type": "code",
   "execution_count": 143,
   "metadata": {},
   "outputs": [
    {
     "data": {
      "text/plain": [
       "{1, 2, 3, 5, 6}"
      ]
     },
     "execution_count": 143,
     "metadata": {},
     "output_type": "execute_result"
    }
   ],
   "source": [
    "A1 = np.array([1,2,3,4,5,6,7])\n",
    "\n",
    "np.array_split(A1,3)\n",
    "\n",
    "np.append(A1,8)\n",
    "\n",
    "A2 = {1,2,3}\n",
    "\n",
    "A2.update([5,6])\n",
    "\n",
    "A2"
   ]
  }
 ],
 "metadata": {
  "kernelspec": {
   "display_name": "Python 3.10.4 ('env_YelpPredictor')",
   "language": "python",
   "name": "python3"
  },
  "language_info": {
   "codemirror_mode": {
    "name": "ipython",
    "version": 3
   },
   "file_extension": ".py",
   "mimetype": "text/x-python",
   "name": "python",
   "nbconvert_exporter": "python",
   "pygments_lexer": "ipython3",
   "version": "3.10.4"
  },
  "orig_nbformat": 4,
  "vscode": {
   "interpreter": {
    "hash": "54933d5d0454cb54ea8cf4e7b3c099269c704adbee2a5b35f5a5ea4d0f5219ad"
   }
  }
 },
 "nbformat": 4,
 "nbformat_minor": 2
}
